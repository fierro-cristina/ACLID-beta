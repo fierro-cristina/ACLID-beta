{
  "nbformat": 4,
  "nbformat_minor": 0,
  "metadata": {
    "colab": {
      "name": "disease-classifier-keras.ipynb",
      "provenance": [],
      "collapsed_sections": [],
      "authorship_tag": "ABX9TyO6Lm9PuW/NYPhGFr8zgF7w",
      "include_colab_link": true
    },
    "kernelspec": {
      "name": "python3",
      "display_name": "Python 3"
    }
  },
  "cells": [
    {
      "cell_type": "markdown",
      "metadata": {
        "id": "view-in-github",
        "colab_type": "text"
      },
      "source": [
        "<a href=\"https://colab.research.google.com/github/fierro-cristina/fall-senior-year/blob/master/ACLID-beta-v1.ipynb\" target=\"_parent\"><img src=\"https://colab.research.google.com/assets/colab-badge.svg\" alt=\"Open In Colab\"/></a>"
      ]
    },
    {
      "cell_type": "code",
      "metadata": {
        "id": "gp6tE_OBtLew",
        "colab_type": "code",
        "outputId": "4bc48551-e031-47ad-8c8e-79d79e7a49b0",
        "colab": {
          "base_uri": "https://localhost:8080/",
          "height": 35
        }
      },
      "source": [
        "import numpy as np\n",
        "import cv2\n",
        "import matplotlib.pyplot as plt\n",
        "from os import listdir\n",
        "from sklearn.preprocessing import LabelBinarizer\n",
        "from keras.models import Sequential\n",
        "from keras.layers.normalization import BatchNormalization\n",
        "from keras.layers.convolutional import Conv2D\n",
        "from keras.layers.convolutional import MaxPooling2D\n",
        "from keras.layers.core import Activation, Flatten, Dropout, Dense\n",
        "from keras import backend as K\n",
        "from keras.preprocessing.image import ImageDataGenerator\n",
        "from keras.optimizers import Adam\n",
        "from keras.preprocessing import image\n",
        "from keras.preprocessing.image import img_to_array\n",
        "from sklearn.preprocessing import MultiLabelBinarizer\n",
        "from sklearn.model_selection import train_test_split"
      ],
      "execution_count": 0,
      "outputs": [
        {
          "output_type": "stream",
          "text": [
            "Using TensorFlow backend.\n"
          ],
          "name": "stderr"
        }
      ]
    },
    {
      "cell_type": "code",
      "metadata": {
        "id": "jOvm3QPdvcvw",
        "colab_type": "code",
        "outputId": "d542ae6b-bc9f-42f8-d843-f80e8f357596",
        "colab": {
          "base_uri": "https://localhost:8080/",
          "height": 129
        }
      },
      "source": [
        "from google.colab import drive\n",
        "drive.mount('/gdrive')"
      ],
      "execution_count": 0,
      "outputs": [
        {
          "output_type": "stream",
          "text": [
            "Go to this URL in a browser: https://accounts.google.com/o/oauth2/auth?client_id=947318989803-6bn6qk8qdgf4n4g3pfee6491hc0brc4i.apps.googleusercontent.com&redirect_uri=urn%3aietf%3awg%3aoauth%3a2.0%3aoob&response_type=code&scope=email%20https%3a%2f%2fwww.googleapis.com%2fauth%2fdocs.test%20https%3a%2f%2fwww.googleapis.com%2fauth%2fdrive%20https%3a%2f%2fwww.googleapis.com%2fauth%2fdrive.photos.readonly%20https%3a%2f%2fwww.googleapis.com%2fauth%2fpeopleapi.readonly\n",
            "\n",
            "Enter your authorization code:\n",
            "··········\n",
            "Mounted at /gdrive\n"
          ],
          "name": "stdout"
        }
      ]
    },
    {
      "cell_type": "code",
      "metadata": {
        "id": "WT5Zjq-vtx5J",
        "colab_type": "code",
        "colab": {}
      },
      "source": [
        "EPOCHS = 25\n",
        "initial_learning_rate = 1E-3\n",
        "BS = 32\n",
        "default_image_size = tuple((256, 256))\n",
        "image_size = 0\n",
        "root_path = '/gdrive/My Drive/Dataset'\n",
        "width = 256\n",
        "height = 256\n",
        "depth = 3"
      ],
      "execution_count": 0,
      "outputs": []
    },
    {
      "cell_type": "code",
      "metadata": {
        "id": "K4Qz0ISVulJS",
        "colab_type": "code",
        "colab": {}
      },
      "source": [
        "def convert_to_array(image_path):\n",
        "  try:\n",
        "    image = cv2.imread(image_path)\n",
        "    if image is not None:\n",
        "      image = cv2.resize(image, default_image_size)\n",
        "      return img_to_array(image)\n",
        "    else:\n",
        "      return np.array([])\n",
        "  except Exception as e:\n",
        "    print(f\"Error : {e}\")\n",
        "    return None"
      ],
      "execution_count": 0,
      "outputs": []
    },
    {
      "cell_type": "code",
      "metadata": {
        "id": "TptXVz9s1z-3",
        "colab_type": "code",
        "outputId": "ababfd96-337c-4eec-ef96-30ad33908928",
        "colab": {
          "base_uri": "https://localhost:8080/",
          "height": 329
        }
      },
      "source": [
        "image_list, label_list = [], []\n",
        "\n",
        "try:\n",
        "  print(\"Loading the images...\")\n",
        "  root_dir = listdir(root_path)\n",
        "\n",
        "  for plant_folder in root_dir :\n",
        "        plant_disease_folder_list = listdir(f\"{root_path}/{plant_folder}\")\n",
        "\n",
        "        for plant_disease_folder in plant_disease_folder_list:\n",
        "            print(f\"[INFO] Processing {plant_disease_folder} ...\")\n",
        "            plant_disease_image_list = listdir(f\"{root_path}/{plant_folder}/{plant_disease_folder}\")\n",
        "\n",
        "            for image in plant_disease_image_list[:200]:\n",
        "                image_directory = f\"{root_path}/{plant_folder}/{plant_disease_folder}/{image}\"\n",
        "                if image_directory.endswith(\".jpg\") == True or image_directory.endswith(\".JPG\") == True:\n",
        "                    image_list.append(convert_to_array(image_directory))\n",
        "                    label_list.append(plant_disease_folder)\n",
        "\n",
        "  # for folder in root_pth:\n",
        "  #   folder_path = f\"{root_path}/{folder}\"\n",
        "  #   print(f\"Processing {folder_path}...\")\n",
        "  #   folder_list = listdir(folder_path)\n",
        "  #   labels.append(folder)\n",
        "\n",
        "  # for img in folder_list:\n",
        "  #   image_path = f\"{root_path}/{folder}/{img}\"\n",
        "  #   # image_list = listdir(image_path)\n",
        "  #   if image_path.endswith(\".jpg\") == True or image_path.endswith(\".JPG\") == True:\n",
        "  #     images.append(convert_to_array(image_path))\n",
        "\n",
        "          \n",
        "  print(\"Loading image completed...\")\n",
        "except Exception as e:\n",
        "    print(f\"Error: {e}\")"
      ],
      "execution_count": 0,
      "outputs": [
        {
          "output_type": "stream",
          "text": [
            "Loading the images...\n",
            "[INFO] Processing Tomato_Early_blight ...\n",
            "[INFO] Processing Tomato_Bacterial_spot ...\n",
            "[INFO] Processing Tomato_Late_blight ...\n",
            "[INFO] Processing Tomato_Septoria_leaf_spot ...\n",
            "[INFO] Processing Tomato_Leaf_Mold ...\n",
            "[INFO] Processing Tomato-TargetSpt ...\n",
            "[INFO] Processing Tomato-MosaicVrs ...\n",
            "[INFO] Processing Tomato-YllwLeafCrlVrs ...\n",
            "[INFO] Processing Tomato_Spider_mites ...\n",
            "[INFO] Processing Tomato-Healthy ...\n",
            "[INFO] Processing Potato-EarlyBlight ...\n",
            "[INFO] Processing Potato-LateBlight ...\n",
            "[INFO] Processing Potato-Healthy ...\n",
            "[INFO] Processing BellPepper-BactSpt ...\n",
            "[INFO] Processing BellPepper-Healthy ...\n",
            "Loading image completed...\n"
          ],
          "name": "stdout"
        }
      ]
    },
    {
      "cell_type": "code",
      "metadata": {
        "id": "m7PgyJM9_MPq",
        "colab_type": "code",
        "outputId": "e4ef2ae1-007f-4395-a855-8e3acaf95ea5",
        "colab": {
          "base_uri": "https://localhost:8080/",
          "height": 35
        }
      },
      "source": [
        "image_list_size = len(image_list)\n",
        "print(image_list_size)"
      ],
      "execution_count": 0,
      "outputs": [
        {
          "output_type": "stream",
          "text": [
            "2951\n"
          ],
          "name": "stdout"
        }
      ]
    },
    {
      "cell_type": "code",
      "metadata": {
        "id": "qAbcc7fb_VJp",
        "colab_type": "code",
        "outputId": "8b3ddd4f-2ae1-4fa7-bc48-f77700d649bc",
        "colab": {
          "base_uri": "https://localhost:8080/",
          "height": 127
        }
      },
      "source": [
        "label_binarizer = LabelBinarizer()\n",
        "image_labels = label_binarizer.fit_transform(label_list)\n",
        "number_of_classes = len(label_binarizer.classes_)\n",
        "print(number_of_classes)\n",
        "print((label_binarizer.classes_))"
      ],
      "execution_count": 0,
      "outputs": [
        {
          "output_type": "stream",
          "text": [
            "15\n",
            "['BellPepper-BactSpt' 'BellPepper-Healthy' 'Potato-EarlyBlight'\n",
            " 'Potato-Healthy' 'Potato-LateBlight' 'Tomato-Healthy' 'Tomato-MosaicVrs'\n",
            " 'Tomato-TargetSpt' 'Tomato-YllwLeafCrlVrs' 'Tomato_Bacterial_spot'\n",
            " 'Tomato_Early_blight' 'Tomato_Late_blight' 'Tomato_Leaf_Mold'\n",
            " 'Tomato_Septoria_leaf_spot' 'Tomato_Spider_mites']\n"
          ],
          "name": "stdout"
        }
      ]
    },
    {
      "cell_type": "code",
      "metadata": {
        "id": "aa85rbI7Vhvu",
        "colab_type": "code",
        "outputId": "a8b15b4f-c586-4731-f2f9-b9961007e32d",
        "colab": {
          "base_uri": "https://localhost:8080/",
          "height": 35
        }
      },
      "source": [
        "np_image_list = np.array(image_list, dtype=np.float16) / 225.0\n",
        "print(len(np_image_list))"
      ],
      "execution_count": 0,
      "outputs": [
        {
          "output_type": "stream",
          "text": [
            "2951\n"
          ],
          "name": "stdout"
        }
      ]
    },
    {
      "cell_type": "code",
      "metadata": {
        "id": "DGTIyLEMApmI",
        "colab_type": "code",
        "outputId": "912e7bfe-3181-4433-e12a-ba61d372cffc",
        "colab": {
          "base_uri": "https://localhost:8080/",
          "height": 35
        }
      },
      "source": [
        "print(\"Splitting data into train and test...\")\n",
        "X_train, X_test, y_train, y_test = train_test_split(np_image_list, image_labels, test_size=0.2, random_state=42)"
      ],
      "execution_count": 0,
      "outputs": [
        {
          "output_type": "stream",
          "text": [
            "Splitting data into train and test...\n"
          ],
          "name": "stdout"
        }
      ]
    },
    {
      "cell_type": "code",
      "metadata": {
        "id": "crxgA5eVBOrr",
        "colab_type": "code",
        "colab": {}
      },
      "source": [
        "data_augmentator = ImageDataGenerator(rotation_range=25,\n",
        "                                      width_shift_range=0.1,\n",
        "                                      height_shift_range=0.1,\n",
        "                                      shear_range=0.2,\n",
        "                                      zoom_range=0.2,\n",
        "                                      horizontal_flip=True,\n",
        "                                      fill_mode=\"nearest\")"
      ],
      "execution_count": 0,
      "outputs": []
    },
    {
      "cell_type": "code",
      "metadata": {
        "id": "CH0VYOXOBib1",
        "colab_type": "code",
        "outputId": "fa194a3a-3050-4828-80a6-9e9e66affb1f",
        "colab": {
          "base_uri": "https://localhost:8080/",
          "height": 1000
        }
      },
      "source": [
        "model = Sequential()\n",
        "inputShape = (height, width, depth)\n",
        "chanDim = -1\n",
        "if K.image_data_format() == \"channels_first\":\n",
        "    inputShape = (depth, height, width)\n",
        "    chanDim = 1\n",
        "model.add(Conv2D(32, (3, 3), padding=\"same\",input_shape=inputShape))\n",
        "model.add(Activation(\"relu\"))\n",
        "model.add(BatchNormalization(axis=chanDim))\n",
        "model.add(MaxPooling2D(pool_size=(3, 3)))\n",
        "model.add(Dropout(0.25))\n",
        "model.add(Conv2D(64, (3, 3), padding=\"same\"))\n",
        "model.add(Activation(\"relu\"))\n",
        "model.add(BatchNormalization(axis=chanDim))\n",
        "model.add(Conv2D(64, (3, 3), padding=\"same\"))\n",
        "model.add(Activation(\"relu\"))\n",
        "model.add(BatchNormalization(axis=chanDim))\n",
        "model.add(MaxPooling2D(pool_size=(2, 2)))\n",
        "model.add(Dropout(0.25))\n",
        "model.add(Conv2D(128, (3, 3), padding=\"same\"))\n",
        "model.add(Activation(\"relu\"))\n",
        "model.add(BatchNormalization(axis=chanDim))\n",
        "model.add(Conv2D(128, (3, 3), padding=\"same\"))\n",
        "model.add(Activation(\"relu\"))\n",
        "model.add(BatchNormalization(axis=chanDim))\n",
        "model.add(MaxPooling2D(pool_size=(2, 2)))\n",
        "model.add(Dropout(0.25))\n",
        "model.add(Flatten())\n",
        "model.add(Dense(1024))\n",
        "model.add(Activation(\"relu\"))\n",
        "model.add(BatchNormalization())\n",
        "model.add(Dropout(0.5))\n",
        "model.add(Dense(number_of_classes))\n",
        "model.add(Activation(\"softmax\"))\n",
        "\n",
        "model.summary()"
      ],
      "execution_count": 0,
      "outputs": [
        {
          "output_type": "stream",
          "text": [
            "Model: \"sequential_1\"\n",
            "_________________________________________________________________\n",
            "Layer (type)                 Output Shape              Param #   \n",
            "=================================================================\n",
            "conv2d_1 (Conv2D)            (None, 256, 256, 32)      896       \n",
            "_________________________________________________________________\n",
            "activation_1 (Activation)    (None, 256, 256, 32)      0         \n",
            "_________________________________________________________________\n",
            "batch_normalization_1 (Batch (None, 256, 256, 32)      128       \n",
            "_________________________________________________________________\n",
            "max_pooling2d_1 (MaxPooling2 (None, 85, 85, 32)        0         \n",
            "_________________________________________________________________\n",
            "dropout_1 (Dropout)          (None, 85, 85, 32)        0         \n",
            "_________________________________________________________________\n",
            "conv2d_2 (Conv2D)            (None, 85, 85, 64)        18496     \n",
            "_________________________________________________________________\n",
            "activation_2 (Activation)    (None, 85, 85, 64)        0         \n",
            "_________________________________________________________________\n",
            "batch_normalization_2 (Batch (None, 85, 85, 64)        256       \n",
            "_________________________________________________________________\n",
            "conv2d_3 (Conv2D)            (None, 85, 85, 64)        36928     \n",
            "_________________________________________________________________\n",
            "activation_3 (Activation)    (None, 85, 85, 64)        0         \n",
            "_________________________________________________________________\n",
            "batch_normalization_3 (Batch (None, 85, 85, 64)        256       \n",
            "_________________________________________________________________\n",
            "max_pooling2d_2 (MaxPooling2 (None, 42, 42, 64)        0         \n",
            "_________________________________________________________________\n",
            "dropout_2 (Dropout)          (None, 42, 42, 64)        0         \n",
            "_________________________________________________________________\n",
            "conv2d_4 (Conv2D)            (None, 42, 42, 128)       73856     \n",
            "_________________________________________________________________\n",
            "activation_4 (Activation)    (None, 42, 42, 128)       0         \n",
            "_________________________________________________________________\n",
            "batch_normalization_4 (Batch (None, 42, 42, 128)       512       \n",
            "_________________________________________________________________\n",
            "conv2d_5 (Conv2D)            (None, 42, 42, 128)       147584    \n",
            "_________________________________________________________________\n",
            "activation_5 (Activation)    (None, 42, 42, 128)       0         \n",
            "_________________________________________________________________\n",
            "batch_normalization_5 (Batch (None, 42, 42, 128)       512       \n",
            "_________________________________________________________________\n",
            "max_pooling2d_3 (MaxPooling2 (None, 21, 21, 128)       0         \n",
            "_________________________________________________________________\n",
            "dropout_3 (Dropout)          (None, 21, 21, 128)       0         \n",
            "_________________________________________________________________\n",
            "flatten_1 (Flatten)          (None, 56448)             0         \n",
            "_________________________________________________________________\n",
            "dense_1 (Dense)              (None, 1024)              57803776  \n",
            "_________________________________________________________________\n",
            "activation_6 (Activation)    (None, 1024)              0         \n",
            "_________________________________________________________________\n",
            "batch_normalization_6 (Batch (None, 1024)              4096      \n",
            "_________________________________________________________________\n",
            "dropout_4 (Dropout)          (None, 1024)              0         \n",
            "_________________________________________________________________\n",
            "dense_2 (Dense)              (None, 15)                15375     \n",
            "_________________________________________________________________\n",
            "activation_7 (Activation)    (None, 15)                0         \n",
            "=================================================================\n",
            "Total params: 58,102,671\n",
            "Trainable params: 58,099,791\n",
            "Non-trainable params: 2,880\n",
            "_________________________________________________________________\n"
          ],
          "name": "stdout"
        }
      ]
    },
    {
      "cell_type": "code",
      "metadata": {
        "id": "_7ifr7kPMd0D",
        "colab_type": "code",
        "outputId": "46ce53f7-3591-4a61-f1c8-bb6c707818a9",
        "colab": {
          "base_uri": "https://localhost:8080/",
          "height": 35
        }
      },
      "source": [
        "opt = Adam(lr = initial_learning_rate, decay = initial_learning_rate/EPOCHS)\n",
        "model.compile(loss = \"binary_crossentropy\", optimizer = opt, metrics = [\"accuracy\"])\n",
        "print(\"Training network...\")"
      ],
      "execution_count": 0,
      "outputs": [
        {
          "output_type": "stream",
          "text": [
            "Training network...\n"
          ],
          "name": "stdout"
        }
      ]
    },
    {
      "cell_type": "code",
      "metadata": {
        "id": "K-T8HIqiN313",
        "colab_type": "code",
        "outputId": "b184d2b9-de3b-4210-9144-6bb1eba4d2ec",
        "colab": {
          "base_uri": "https://localhost:8080/",
          "height": 935
        }
      },
      "source": [
        "history = model.fit_generator(data_augmentator.flow(X_train, y_train, batch_size = BS),\n",
        "                              validation_data = (X_test, y_test),\n",
        "                              steps_per_epoch = len(X_train) // BS,\n",
        "                              epochs = EPOCHS, verbose = 1)\n",
        "# history = model.fit(X_train, y_train, epochs = EPOCHS, batch_size = BS)"
      ],
      "execution_count": 0,
      "outputs": [
        {
          "output_type": "stream",
          "text": [
            "Epoch 1/25\n",
            "73/73 [==============================] - 568s 8s/step - loss: 0.2043 - accuracy: 0.9360 - val_loss: 0.9449 - val_accuracy: 0.8728\n",
            "Epoch 2/25\n",
            "73/73 [==============================] - 561s 8s/step - loss: 0.1512 - accuracy: 0.9483 - val_loss: 0.9898 - val_accuracy: 0.8730\n",
            "Epoch 3/25\n",
            "73/73 [==============================] - 562s 8s/step - loss: 0.1369 - accuracy: 0.9528 - val_loss: 0.8475 - val_accuracy: 0.8807\n",
            "Epoch 4/25\n",
            "73/73 [==============================] - 558s 8s/step - loss: 0.1270 - accuracy: 0.9548 - val_loss: 1.0228 - val_accuracy: 0.8828\n",
            "Epoch 5/25\n",
            "73/73 [==============================] - 565s 8s/step - loss: 0.1275 - accuracy: 0.9545 - val_loss: 1.0643 - val_accuracy: 0.8818\n",
            "Epoch 6/25\n",
            "73/73 [==============================] - 564s 8s/step - loss: 0.1125 - accuracy: 0.9596 - val_loss: 0.9228 - val_accuracy: 0.8820\n",
            "Epoch 7/25\n",
            "73/73 [==============================] - 563s 8s/step - loss: 0.0904 - accuracy: 0.9673 - val_loss: 0.3370 - val_accuracy: 0.9246\n",
            "Epoch 8/25\n",
            "73/73 [==============================] - 562s 8s/step - loss: 0.0867 - accuracy: 0.9694 - val_loss: 0.6442 - val_accuracy: 0.8953\n",
            "Epoch 9/25\n",
            "73/73 [==============================] - 566s 8s/step - loss: 0.0717 - accuracy: 0.9739 - val_loss: 0.3253 - val_accuracy: 0.9274\n",
            "Epoch 10/25\n",
            "73/73 [==============================] - 564s 8s/step - loss: 0.0719 - accuracy: 0.9740 - val_loss: 0.5696 - val_accuracy: 0.9142\n",
            "Epoch 11/25\n",
            "73/73 [==============================] - 560s 8s/step - loss: 0.0762 - accuracy: 0.9723 - val_loss: 0.2476 - val_accuracy: 0.9403\n",
            "Epoch 12/25\n",
            "73/73 [==============================] - 562s 8s/step - loss: 0.0696 - accuracy: 0.9744 - val_loss: 0.2605 - val_accuracy: 0.9409\n",
            "Epoch 13/25\n",
            "73/73 [==============================] - 560s 8s/step - loss: 0.0647 - accuracy: 0.9760 - val_loss: 0.2936 - val_accuracy: 0.9457\n",
            "Epoch 14/25\n",
            "73/73 [==============================] - 560s 8s/step - loss: 0.0644 - accuracy: 0.9763 - val_loss: 0.5081 - val_accuracy: 0.9189\n",
            "Epoch 15/25\n",
            "73/73 [==============================] - 559s 8s/step - loss: 0.0587 - accuracy: 0.9779 - val_loss: 0.2721 - val_accuracy: 0.9433\n",
            "Epoch 16/25\n",
            "73/73 [==============================] - 558s 8s/step - loss: 0.0554 - accuracy: 0.9794 - val_loss: 0.1813 - val_accuracy: 0.9572\n",
            "Epoch 17/25\n",
            "73/73 [==============================] - 565s 8s/step - loss: 0.0490 - accuracy: 0.9805 - val_loss: 0.1010 - val_accuracy: 0.9706\n",
            "Epoch 18/25\n",
            "73/73 [==============================] - 565s 8s/step - loss: 0.0507 - accuracy: 0.9817 - val_loss: 0.4405 - val_accuracy: 0.9253\n",
            "Epoch 19/25\n",
            "73/73 [==============================] - 562s 8s/step - loss: 0.0485 - accuracy: 0.9826 - val_loss: 0.1578 - val_accuracy: 0.9605\n",
            "Epoch 20/25\n",
            "73/73 [==============================] - 562s 8s/step - loss: 0.0444 - accuracy: 0.9839 - val_loss: 0.1396 - val_accuracy: 0.9647\n",
            "Epoch 21/25\n",
            "73/73 [==============================] - 565s 8s/step - loss: 0.0429 - accuracy: 0.9836 - val_loss: 0.1422 - val_accuracy: 0.9668\n",
            "Epoch 22/25\n",
            "73/73 [==============================] - 560s 8s/step - loss: 0.0428 - accuracy: 0.9844 - val_loss: 0.0613 - val_accuracy: 0.9818\n",
            "Epoch 23/25\n",
            "73/73 [==============================] - 559s 8s/step - loss: 0.0362 - accuracy: 0.9864 - val_loss: 0.5325 - val_accuracy: 0.9201\n",
            "Epoch 24/25\n",
            "73/73 [==============================] - 560s 8s/step - loss: 0.0404 - accuracy: 0.9842 - val_loss: 0.2638 - val_accuracy: 0.9469\n",
            "Epoch 25/25\n",
            "73/73 [==============================] - 559s 8s/step - loss: 0.0408 - accuracy: 0.9842 - val_loss: 0.2168 - val_accuracy: 0.9470\n"
          ],
          "name": "stdout"
        }
      ]
    },
    {
      "cell_type": "code",
      "metadata": {
        "id": "4DrFjWzsQcE9",
        "colab_type": "code",
        "outputId": "b5c5f919-3b3a-47e8-ba42-50038218252d",
        "colab": {
          "base_uri": "https://localhost:8080/",
          "height": 545
        }
      },
      "source": [
        "accuracy = history.history['accuracy']\n",
        "val_accuracy = history.history['val_accuracy']\n",
        "loss = history.history['loss']\n",
        "val_loss = history.history['val_loss']\n",
        "epochs = range(1, len(accuracy) + 1)\n",
        "\n",
        "plt.plot(epochs, accuracy, 'purple', label = 'Training accuracy')\n",
        "plt.plot(epochs, val_accuracy, 'orange', label = 'Validation accuracy')\n",
        "plt.title('Training/Validation Accuracy')\n",
        "plt.legend()\n",
        "\n",
        "plt.figure()\n",
        "plt.plot(epochs, loss, 'purple', label = 'Training loss')\n",
        "plt.plot(epochs, val_loss, 'orange', label = 'Validation loss')\n",
        "plt.title('Training/Validation loss')\n",
        "plt.legend()\n",
        "\n",
        "plt.show()\n"
      ],
      "execution_count": 0,
      "outputs": [
        {
          "output_type": "display_data",
          "data": {
            "image/png": "[encoded data removed]",
            "text/plain": [
              "<Figure size 432x288 with 1 Axes>"
            ]
          },
          "metadata": {
            "tags": [],
            "needs_background": "light"
          }
        },
        {
          "output_type": "display_data",
          "data": {
            "image/png": "[encoded data removed]",
            "text/plain": [
              "<Figure size 432x288 with 1 Axes>"
            ]
          },
          "metadata": {
            "tags": [],
            "needs_background": "light"
          }
        }
      ]
    }
  ]
}